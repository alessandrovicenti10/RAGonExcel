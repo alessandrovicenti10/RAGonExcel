{
  "nbformat": 4,
  "nbformat_minor": 0,
  "metadata": {
    "colab": {
      "provenance": [],
      "authorship_tag": "ABX9TyNmu7RNWQNS+lZf0BSKJgBf",
      "include_colab_link": true
    },
    "kernelspec": {
      "name": "python3",
      "display_name": "Python 3"
    },
    "language_info": {
      "name": "python"
    }
  },
  "cells": [
    {
      "cell_type": "markdown",
      "metadata": {
        "id": "view-in-github",
        "colab_type": "text"
      },
      "source": [
        "<a href=\"https://colab.research.google.com/github/alessandrovicenti10/RAGonExcel/blob/main/exampleRAG.ipynb\" target=\"_parent\"><img src=\"https://colab.research.google.com/assets/colab-badge.svg\" alt=\"Open In Colab\"/></a>"
      ]
    },
    {
      "cell_type": "code",
      "execution_count": null,
      "metadata": {
        "id": "DLdLVfF7eVeH",
        "collapsed": true
      },
      "outputs": [],
      "source": [
        "!pip install llama_index\n",
        "!pip install llama_parse\n"
      ]
    },
    {
      "cell_type": "code",
      "source": [
        "import nest_asyncio\n",
        "\n",
        "from llama_index.llms.openai import OpenAI\n",
        "from llama_index.core import VectorStoreIndex\n",
        "from IPython.display import Image, Markdown\n",
        "\n",
        "from llama_parse import LlamaParse\n",
        "\n",
        "from llama_index.core.node_parser import MarkdownElementNodeParser"
      ],
      "metadata": {
        "id": "JJJ-iiyVhCvu"
      },
      "execution_count": null,
      "outputs": []
    },
    {
      "cell_type": "code",
      "source": [
        "nest_asyncio.apply()"
      ],
      "metadata": {
        "id": "3HkCygDghTlS"
      },
      "execution_count": null,
      "outputs": []
    },
    {
      "cell_type": "code",
      "source": [
        "import os\n",
        "\n",
        "from google.colab import userdata\n",
        "\n",
        "os.environ[\"OPENAI_API_KEY\"] = userdata.get('OPENAI_API_KEY')\n",
        "\n",
        "llm_o1 = OpenAI(model=\"o1-mini\")\n",
        "llm_gpt4o_mini = OpenAI(model=\"gpt-4o-mini\")\n",
        "llm_o1_preview = OpenAI(model=\"o1-preview\")"
      ],
      "metadata": {
        "id": "ucf8cpthh2NA"
      },
      "execution_count": null,
      "outputs": []
    },
    {
      "cell_type": "code",
      "source": [
        "\n",
        "from google.colab import userdata\n",
        "\n",
        "parser = LlamaParse(\n",
        "    api_key=userdata.get('LLAMA_CLOUD'),\n",
        "    result_type=\"markdown\",\n",
        ")\n",
        "\n",
        "documents = parser.load_data(\"/content/foglioICE_TABULAR.xlsx\")"
      ],
      "metadata": {
        "colab": {
          "base_uri": "https://localhost:8080/"
        },
        "id": "LDfh1YFPjz9p",
        "outputId": "b483bb1e-07eb-4c85-9fbe-8de8347017a9"
      },
      "execution_count": null,
      "outputs": [
        {
          "output_type": "stream",
          "name": "stdout",
          "text": [
            "Started parsing the file under job_id 0425fc94-8ddc-488e-9b71-7383666e45be\n"
          ]
        }
      ]
    },
    {
      "cell_type": "code",
      "source": [
        "len(documents)"
      ],
      "metadata": {
        "colab": {
          "base_uri": "https://localhost:8080/"
        },
        "id": "tf2Dq1brk7bj",
        "outputId": "048bcd12-643a-496d-c713-be22603d2a23"
      },
      "execution_count": null,
      "outputs": [
        {
          "output_type": "execute_result",
          "data": {
            "text/plain": [
              "1"
            ]
          },
          "metadata": {},
          "execution_count": 6
        }
      ]
    },
    {
      "cell_type": "code",
      "source": [
        "print(documents[0].get_content())"
      ],
      "metadata": {
        "id": "oVfLXCXxlLyK"
      },
      "execution_count": null,
      "outputs": []
    },
    {
      "cell_type": "code",
      "source": [
        "node_parser = MarkdownElementNodeParser(llm=llm_gpt4o_mini, num_workers=4)"
      ],
      "metadata": {
        "id": "oToDsRgmlydZ"
      },
      "execution_count": null,
      "outputs": []
    },
    {
      "cell_type": "code",
      "source": [
        "nodes = node_parser.get_nodes_from_documents(documents[:10])"
      ],
      "metadata": {
        "colab": {
          "base_uri": "https://localhost:8080/"
        },
        "id": "l2VWT7Stl9KC",
        "outputId": "6d129f52-f3bc-47d5-94e3-dcc4ec6d9ea5"
      },
      "execution_count": null,
      "outputs": [
        {
          "output_type": "stream",
          "name": "stderr",
          "text": [
            "1it [00:00, 187.10it/s]\n"
          ]
        }
      ]
    },
    {
      "cell_type": "code",
      "source": [
        "base_nodes, objects = node_parser.get_nodes_and_objects(nodes)"
      ],
      "metadata": {
        "id": "fEcTO4acnt8D"
      },
      "execution_count": null,
      "outputs": []
    },
    {
      "cell_type": "code",
      "source": [
        "len(nodes), len(base_nodes), len(objects)"
      ],
      "metadata": {
        "colab": {
          "base_uri": "https://localhost:8080/"
        },
        "id": "r9sXpC6wn1V-",
        "outputId": "f07a15b4-0f4b-4ff2-c3ae-8279e9e78827"
      },
      "execution_count": null,
      "outputs": [
        {
          "output_type": "execute_result",
          "data": {
            "text/plain": [
              "(3, 1, 1)"
            ]
          },
          "metadata": {},
          "execution_count": 21
        }
      ]
    },
    {
      "cell_type": "code",
      "source": [
        "print(objects[0].get_content())"
      ],
      "metadata": {
        "colab": {
          "base_uri": "https://localhost:8080/"
        },
        "id": "_lI4hr3bn_71",
        "outputId": "b6cecb29-e1a6-46b4-e027-fbaf08d0ed92"
      },
      "execution_count": null,
      "outputs": [
        {
          "output_type": "stream",
          "name": "stdout",
          "text": [
            "This table presents various types of steel products, their manufacturing processes, applications, and environmental impacts, including greenhouse gas emissions and end-of-life recovery rates, as reported in the Worldsteel 2023 study.,\n",
            "with the following table title:\n",
            "Steel Products and Their Environmental Impact,\n",
            "with the following columns:\n",
            "- Steel Type: Different categories of steel products.\n",
            "- Manufacturing Process: Description of how each steel product is made.\n",
            "- Applications: Common uses for each type of steel.\n",
            "- GWP Impact: Greenhouse gas emissions impact per kg.\n",
            "- EOL Recovery Rate: End-of-life recovery rate for each steel type.\n",
            "\n"
          ]
        }
      ]
    },
    {
      "cell_type": "code",
      "source": [
        "recursive_index = VectorStoreIndex(nodes=base_nodes + objects, llm=llm_gpt4o_mini)\n",
        "recursive_query_engine_gpt4o_mini = recursive_index.as_query_engine(\n",
        "    similarity_top_k=5, llm=llm_gpt4o_mini\n",
        ")"
      ],
      "metadata": {
        "id": "7h1314NroGMq"
      },
      "execution_count": null,
      "outputs": []
    },
    {
      "cell_type": "code",
      "source": [
        "query = \"How much CO2 is emitted to produce one kg of steel?\"\n",
        "response_recursive_gpt4o_mini = recursive_query_engine_gpt4o_mini.query(query)"
      ],
      "metadata": {
        "id": "ZHX9BgGgop71"
      },
      "execution_count": null,
      "outputs": []
    },
    {
      "cell_type": "code",
      "source": [
        "print(\"----------------------RESPONSE WITH GPT4O-MINI----------------------\")\n",
        "display(Markdown(f\"{response_recursive_gpt4o_mini}\"))"
      ],
      "metadata": {
        "colab": {
          "base_uri": "https://localhost:8080/",
          "height": 82
        },
        "id": "dujMT7hgpLsx",
        "outputId": "29002be1-1210-4375-80c8-17c848452ee0"
      },
      "execution_count": null,
      "outputs": [
        {
          "output_type": "stream",
          "name": "stdout",
          "text": [
            "----------------------RESPONSE WITH GPT4O-MINI----------------------\n"
          ]
        },
        {
          "output_type": "display_data",
          "data": {
            "text/plain": [
              "<IPython.core.display.Markdown object>"
            ],
            "text/markdown": "The greenhouse gas emissions impact per kg of steel varies depending on the type of steel product. For example, the impact can range from approximately 1.07 kg CO2e to 1.61 kg CO2e per kg, depending on the specific manufacturing process and type of steel."
          },
          "metadata": {}
        }
      ]
    },
    {
      "cell_type": "code",
      "source": [
        "query = \"Analyzing the information you have from the excel file, tell me how much CO2 is emitted for the production of a water bottle made from 1 kg of aluminum\"\n",
        "response_recursive_gpt4o_mini = recursive_query_engine_gpt4o_mini.query(query)\n",
        "print(\"----------------------RESPONSE WITH GPT4O-MINI----------------------\")\n",
        "display(Markdown(f\"{response_recursive_gpt4o_mini}\"))\n"
      ],
      "metadata": {
        "colab": {
          "base_uri": "https://localhost:8080/",
          "height": 99
        },
        "id": "6siND2TUrb7s",
        "outputId": "f6fb1465-b22e-4cf1-ba24-df395831fcf4"
      },
      "execution_count": null,
      "outputs": [
        {
          "output_type": "stream",
          "name": "stdout",
          "text": [
            "----------------------RESPONSE WITH GPT4O-MINI----------------------\n"
          ]
        },
        {
          "output_type": "display_data",
          "data": {
            "text/plain": [
              "<IPython.core.display.Markdown object>"
            ],
            "text/markdown": "The provided information does not include specific data regarding the CO2 emissions associated with the production of aluminum or water bottles made from aluminum. Therefore, it is not possible to determine the CO2 emissions for the production of a water bottle made from 1 kg of aluminum based on the available context."
          },
          "metadata": {}
        }
      ]
    }
  ]
}